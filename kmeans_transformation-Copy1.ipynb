{
 "cells": [
  {
   "cell_type": "code",
   "execution_count": 1,
   "metadata": {},
   "outputs": [],
   "source": [
    "import cv2\n",
    "import numpy as np\n",
    "import pandas as pd\n",
    "from sklearn.metrics.pairwise import euclidean_distances\n",
    "import os\n",
    "import seaborn as sns\n",
    "import math\n",
    "import random\n",
    "import falconn\n",
    "import timeit\n",
    "# sns.set_theme()\n",
    "\n",
    "\n",
    "def kmeans_trans(img, K=10, attempts=10, epsilon=0.1, max_iter=10, lab=False):\n",
    "    if lab is True:\n",
    "        img = cv2.cvtColor(img, cv2.COLOR_BGR2LAB)\n",
    "    Z = np.float32(img.reshape((-1, 3)))\n",
    "    \n",
    "    criteria = (cv2.TERM_CRITERIA_EPS + cv2.TERM_CRITERIA_MAX_ITER, max_iter, epsilon)\n",
    "    K = K\n",
    "    attempts = attempts\n",
    "    ret, label, center = cv2.kmeans(Z, K , None, criteria, attempts, cv2.KMEANS_RANDOM_CENTERS)\n",
    "\n",
    "    center = np.uint8(center)\n",
    "    res = center[label.flatten()]\n",
    "    res = res.reshape((img.shape))\n",
    "    if lab is True:\n",
    "        res = cv2.cvtColor(res, cv2.COLOR_LAB2BGR)\n",
    "    return res, label\n",
    "\n",
    "def proportion_list(label):\n",
    "    \"\"\"\n",
    "    input: a label list of an image after kmeans transformation\n",
    "    return: a sorted color proportion list\n",
    "    \"\"\"\n",
    "    return (np.sort(np.unique(label, return_counts=True)[1]/len(label))*100)[::-1]    \n",
    "    \n",
    "def get_proportion_list(img, K=10, attempts=10, epsilon=0.1, max_iter=10, lab=False):\n",
    "    res, label = kmeans_trans(img, K, attempts, epsilon, max_iter, lab)\n",
    "    return proportion_list(label)\n",
    "\n",
    "def euclidean_dist_df(proportion_df):\n",
    "    cp_df = pd.DataFrame(euclidean_distances(proportion_df.T, squared=True), columns=proportion_df.columns)\n",
    "    cp_df[\"name\"] = cp_df.columns\n",
    "    cp_df = cp_df.set_index(\"name\")\n",
    "    return cp_df\n",
    "\n",
    "def embedding(proportion_df):\n",
    "    \"\"\"\n",
    "        embedding proportion euclidean lists to hamming binary strings\n",
    "    \"\"\"\n",
    "    euclid_df = np.floor(proportion_df)\n",
    "    max_digit = np.max(euclid_df.max())\n",
    "    ham_dict= {}\n",
    "    for col in proportion_df.columns:\n",
    "        euclid_list = list(euclid_df[col])\n",
    "        ham_str = \"\"\n",
    "        for num in euclid_list:\n",
    "            ham_str += \"1\"*int(num) + \"0\"* int(max_digit-num)\n",
    "        ham_dict[col] = ham_str\n",
    "    return ham_dict\n",
    "\n",
    "def hashfunction(K, max_digit, dim):\n",
    "    hashes = []\n",
    "    for i in range(K):\n",
    "        hashes.append(random.randint(0, max_digit*dim-1))\n",
    "    def h(ham_dict):\n",
    "        hashtable = {}\n",
    "        for key in ham_dict:\n",
    "            hashcode = \"\"\n",
    "            for j in hashes:\n",
    "                hashcode += ham_dict[key][j]\n",
    "            if hashcode in hashtable:\n",
    "                hashtable[hashcode].append(key)\n",
    "            else:\n",
    "                hashtable[hashcode] = [key]\n",
    "        return hashtable\n",
    "    return h"
   ]
  },
  {
   "cell_type": "code",
   "execution_count": 2,
   "metadata": {},
   "outputs": [
    {
     "name": "stdout",
     "output_type": "stream",
     "text": [
      "Dataset construction time:  113.03372778137498 per image\n"
     ]
    }
   ],
   "source": [
    "group = \"blur_modified\"\n",
    "images = os.listdir(f\"images/{group}\")\n",
    "if \".DS_Store\" in images:\n",
    "    images.remove(\".DS_Store\")\n",
    "proportion_dict = {}\n",
    "t1 = timeit.default_timer()\n",
    "for image in images:\n",
    "    img = cv2.imread(f\"images/{group}/{image}\")\n",
    "    proportion_dict[image] = get_proportion_list(img, K=20, epsilon=0.0001, max_iter=500, lab=True)\n",
    "t2 = timeit.default_timer()\n",
    "print(f'Dataset construction time:  {(t2 - t1) / float(len(proportion_dict))} per image')\n",
    "proportion_df = pd.DataFrame(proportion_dict)"
   ]
  },
  {
   "cell_type": "code",
   "execution_count": 12,
   "metadata": {},
   "outputs": [
    {
     "data": {
      "text/plain": [
       "[[13.801727572859745,\n",
       "  12.08376024590164,\n",
       "  11.227800546448087,\n",
       "  10.926471425318761,\n",
       "  8.540741689435336,\n",
       "  5.534921448087432,\n",
       "  4.93226320582878,\n",
       "  3.252006489071038,\n",
       "  3.2448912795992713,\n",
       "  3.0815972222222223,\n",
       "  2.9083418715846996,\n",
       "  2.8777464708561022,\n",
       "  2.7368653233151186,\n",
       "  2.60985883424408,\n",
       "  2.5998975409836067,\n",
       "  2.5177168715846996,\n",
       "  2.2918089708561022,\n",
       "  1.8172244990892532,\n",
       "  1.747495446265938,\n",
       "  1.2668630464480874],\n",
       " [25.790298333650934,\n",
       "  11.643799360562367,\n",
       "  10.179127231150352,\n",
       "  9.60162188485888,\n",
       "  8.708103072264922,\n",
       "  5.890448665015139,\n",
       "  3.6222448072159055,\n",
       "  3.5814859514281485,\n",
       "  3.1585466556564823,\n",
       "  3.091321010396155,\n",
       "  2.4349446314764234,\n",
       "  2.3364881746384634,\n",
       "  2.1840394672764614,\n",
       "  1.9458383620233333,\n",
       "  1.288403311524699,\n",
       "  1.2439391052107815,\n",
       "  1.0486141989032163,\n",
       "  0.953333756801965,\n",
       "  0.7135446441804822,\n",
       "  0.5838573757648903],\n",
       " [10.037163013353489,\n",
       "  9.429327286470143,\n",
       "  8.854035441337029,\n",
       "  8.837238599143362,\n",
       "  8.805744520030235,\n",
       "  8.112874779541446,\n",
       "  7.7076509616192155,\n",
       "  7.182749643067103,\n",
       "  6.058411018728479,\n",
       "  4.13517258755354,\n",
       "  3.5724783740656756,\n",
       "  3.338372385991434,\n",
       "  2.5678172503569328,\n",
       "  1.889644746787604,\n",
       "  1.8025111279079533,\n",
       "  1.740572772318804,\n",
       "  1.726925338036449,\n",
       "  1.6828336272780717,\n",
       "  1.49596875787352,\n",
       "  1.0225077685395145],\n",
       " [13.850609338627962,\n",
       "  11.309005431557807,\n",
       "  8.606417454014332,\n",
       "  8.096581313615408,\n",
       "  8.086539778173353,\n",
       "  7.463462503993792,\n",
       "  6.654845040850792,\n",
       "  5.681226893057648,\n",
       "  5.3325117531608015,\n",
       "  5.265279109041946,\n",
       "  3.76575836414259,\n",
       "  3.464740517595509,\n",
       "  3.4080971290337305,\n",
       "  3.0748550823862337,\n",
       "  2.323109224519604,\n",
       "  1.7561732621297184,\n",
       "  0.9154685289150578,\n",
       "  0.5338901821169383,\n",
       "  0.2860011867269159,\n",
       "  0.12542790633986034]]"
      ]
     },
     "execution_count": 12,
     "metadata": {},
     "output_type": "execute_result"
    }
   ],
   "source": [
    "dataset = []\n",
    "dataset_label = []\n",
    "queries = []\n",
    "queries_label = []\n",
    "for p in proportion_dict:\n",
    "    if 'origin' in p:\n",
    "        dataset_label.append(p)\n",
    "        dataset.append(list(proportion_dict[p]))\n",
    "    else:\n",
    "        queries_label.append(p)\n",
    "        queries.append(proportion_dict[p])\n",
    "dataset"
   ]
  },
  {
   "cell_type": "code",
   "execution_count": 13,
   "metadata": {},
   "outputs": [],
   "source": [
    "dataset /= np.linalg.norm(dataset, axis=1).reshape(-1, 1)\n",
    "queries /= np.linalg.norm(queries, axis=1).reshape(-1, 1)"
   ]
  },
  {
   "cell_type": "code",
   "execution_count": 14,
   "metadata": {},
   "outputs": [],
   "source": [
    "dataset = np.array(dataset,)\n",
    "queries = np.array(queries,)"
   ]
  },
  {
   "cell_type": "code",
   "execution_count": 15,
   "metadata": {},
   "outputs": [
    {
     "data": {
      "text/plain": [
       "(4, 20)"
      ]
     },
     "execution_count": 15,
     "metadata": {},
     "output_type": "execute_result"
    }
   ],
   "source": [
    "dataset.shape"
   ]
  },
  {
   "cell_type": "code",
   "execution_count": 21,
   "metadata": {},
   "outputs": [
    {
     "name": "stdout",
     "output_type": "stream",
     "text": [
      "Solving queries using linear scan\n",
      "Done\n",
      "Linear scan time: 0.0001810657502119284 per query\n"
     ]
    }
   ],
   "source": [
    "# Perform linear scan using NumPy to get answers to the queries.\n",
    "print('Solving queries using linear scan')\n",
    "t1 = timeit.default_timer()\n",
    "answers = []\n",
    "for query in queries:\n",
    "    answers.append(np.dot(list(dataset), query).argmax())\n",
    "t2 = timeit.default_timer()\n",
    "print('Done')\n",
    "print('Linear scan time: {} per query'.format((t2 - t1) / float(len(queries))))\n",
    "anss = [dataset_label[ans] for ans in answers]"
   ]
  },
  {
   "cell_type": "code",
   "execution_count": 22,
   "metadata": {},
   "outputs": [
    {
     "data": {
      "text/html": [
       "<div>\n",
       "<style scoped>\n",
       "    .dataframe tbody tr th:only-of-type {\n",
       "        vertical-align: middle;\n",
       "    }\n",
       "\n",
       "    .dataframe tbody tr th {\n",
       "        vertical-align: top;\n",
       "    }\n",
       "\n",
       "    .dataframe thead th {\n",
       "        text-align: right;\n",
       "    }\n",
       "</style>\n",
       "<table border=\"1\" class=\"dataframe\">\n",
       "  <thead>\n",
       "    <tr style=\"text-align: right;\">\n",
       "      <th></th>\n",
       "      <th>queries_label</th>\n",
       "      <th>answer_label</th>\n",
       "    </tr>\n",
       "  </thead>\n",
       "  <tbody>\n",
       "    <tr>\n",
       "      <th>0</th>\n",
       "      <td>4_blurred.jpg</td>\n",
       "      <td>4_origin.jpg</td>\n",
       "    </tr>\n",
       "    <tr>\n",
       "      <th>1</th>\n",
       "      <td>1_blurred.jpg</td>\n",
       "      <td>1_origin.png</td>\n",
       "    </tr>\n",
       "    <tr>\n",
       "      <th>2</th>\n",
       "      <td>2_blurred.jpg</td>\n",
       "      <td>2_origin.jpg</td>\n",
       "    </tr>\n",
       "    <tr>\n",
       "      <th>3</th>\n",
       "      <td>3_blurred.jpg</td>\n",
       "      <td>3_origin.jpg</td>\n",
       "    </tr>\n",
       "  </tbody>\n",
       "</table>\n",
       "</div>"
      ],
      "text/plain": [
       "   queries_label  answer_label\n",
       "0  4_blurred.jpg  4_origin.jpg\n",
       "1  1_blurred.jpg  1_origin.png\n",
       "2  2_blurred.jpg  2_origin.jpg\n",
       "3  3_blurred.jpg  3_origin.jpg"
      ]
     },
     "execution_count": 22,
     "metadata": {},
     "output_type": "execute_result"
    }
   ],
   "source": [
    "cp_dict = {}\n",
    "cp_dict[\"queries_label\"] = queries_label\n",
    "cp_dict[\"answer_label\"] = anss\n",
    "cp_df =  pd.DataFrame(cp_dict)\n",
    "cp_df"
   ]
  },
  {
   "cell_type": "code",
   "execution_count": 23,
   "metadata": {},
   "outputs": [
    {
     "data": {
      "text/plain": [
       "['4_blurred.jpg', '1_blurred.jpg', '2_blurred.jpg', '3_blurred.jpg']"
      ]
     },
     "execution_count": 23,
     "metadata": {},
     "output_type": "execute_result"
    }
   ],
   "source": [
    "queries_label"
   ]
  },
  {
   "cell_type": "code",
   "execution_count": 24,
   "metadata": {},
   "outputs": [
    {
     "name": "stdout",
     "output_type": "stream",
     "text": [
      "Constructing the LSH table\n",
      "Done\n",
      "Construction time: 0.04291926999940188\n"
     ]
    }
   ],
   "source": [
    "number_of_tables = 50\n",
    "params_cp = falconn.LSHConstructionParameters()\n",
    "params_cp.dimension = len(dataset[0])\n",
    "params_cp.lsh_family = falconn.LSHFamily.CrossPolytope\n",
    "params_cp.distance_function = falconn.DistanceFunction.EuclideanSquared\n",
    "params_cp.l = 50\n",
    "params_cp.num_rotations = 1\n",
    "params_cp.seed = 5721840\n",
    "params_cp.num_setup_threads = 0\n",
    "params_cp.storage_hash_table = falconn.StorageHashTable.BitPackedFlatHashTable\n",
    "falconn.compute_number_of_hash_functions(18, params_cp)\n",
    "\n",
    "print('Constructing the LSH table')\n",
    "t1 = timeit.default_timer()\n",
    "table = falconn.LSHIndex(params_cp)\n",
    "table.setup(dataset)\n",
    "t2 = timeit.default_timer()\n",
    "print('Done')\n",
    "print(f'Construction time: {t2-t1}')"
   ]
  },
  {
   "cell_type": "code",
   "execution_count": 25,
   "metadata": {},
   "outputs": [],
   "source": [
    "query_object = table.construct_query_object()"
   ]
  },
  {
   "cell_type": "code",
   "execution_count": 26,
   "metadata": {},
   "outputs": [
    {
     "name": "stdout",
     "output_type": "stream",
     "text": [
      "Choosing number of probes\n",
      "50 -> 1.0\n",
      "Done\n",
      "50 probes\n",
      "Query time: 0.00018558499982646026\n",
      "Precision: 1.0\n"
     ]
    }
   ],
   "source": [
    "print('Choosing number of probes')\n",
    "number_of_probes = number_of_tables\n",
    "\n",
    "def evaluate_number_of_probes(number_of_probes):\n",
    "    query_object.set_num_probes(number_of_probes)\n",
    "    score = 0\n",
    "    for (i, query) in enumerate(queries):\n",
    "        if answers[i] in query_object.get_candidates_with_duplicates(\n",
    "                query):\n",
    "            score += 1\n",
    "    return float(score) / len(queries)\n",
    "\n",
    "while True:\n",
    "    accuracy = evaluate_number_of_probes(number_of_probes)\n",
    "    print('{} -> {}'.format(number_of_probes, accuracy))\n",
    "    if accuracy >= 0.9:\n",
    "        break\n",
    "    number_of_probes = number_of_probes * 2\n",
    "if number_of_probes > number_of_tables:\n",
    "    left = number_of_probes // 2\n",
    "    right = number_of_probes\n",
    "    while right - left > 1:\n",
    "        number_of_probes = (left + right) // 2\n",
    "        accuracy = evaluate_number_of_probes(number_of_probes)\n",
    "        print('{} -> {}'.format(number_of_probes, accuracy))\n",
    "        if accuracy >= 0.9:\n",
    "            right = number_of_probes\n",
    "        else:\n",
    "            left = number_of_probes\n",
    "    number_of_probes = right\n",
    "print('Done')\n",
    "print('{} probes'.format(number_of_probes))\n",
    "\n",
    "# final evaluation\n",
    "t1 = timeit.default_timer()\n",
    "score = 0\n",
    "for (i, query) in enumerate(queries):\n",
    "    if query_object.find_nearest_neighbor(query) == answers[i]:\n",
    "        score += 1\n",
    "t2 = timeit.default_timer()\n",
    "\n",
    "print('Query time: {}'.format((t2 - t1) / len(queries)))\n",
    "print('Precision: {}'.format(float(score) / len(queries)))"
   ]
  },
  {
   "cell_type": "code",
   "execution_count": null,
   "metadata": {},
   "outputs": [],
   "source": []
  },
  {
   "cell_type": "code",
   "execution_count": null,
   "metadata": {},
   "outputs": [],
   "source": []
  },
  {
   "cell_type": "code",
   "execution_count": null,
   "metadata": {},
   "outputs": [],
   "source": []
  },
  {
   "cell_type": "code",
   "execution_count": null,
   "metadata": {},
   "outputs": [],
   "source": [
    "max_digit = int(np.max(np.floor(proportion_df).max()))\n",
    "K, L = 50, 5\n",
    "final_tables = []\n",
    "ft={}\n",
    "gs = []\n",
    "for i in range(L):\n",
    "    g = hashfunction(K, max_digit, dim=10)\n",
    "    gs.append(g)\n",
    "    table = g(embedding(proportion_df))\n",
    "    final_tables.append(table)\n",
    "    ft = {**ft, **table}\n",
    "final_tables"
   ]
  },
  {
   "cell_type": "code",
   "execution_count": null,
   "metadata": {},
   "outputs": [],
   "source": [
    "#query \n",
    "\n",
    "res = []\n",
    "for i, g in enumerate(gs):\n",
    "    ql = list(g(embedding(proportion_df[\"3_whitegem.jpg\"].to_frame())).keys())[0]\n",
    "    res.append(final_tables[i][ql])\n",
    "res"
   ]
  },
  {
   "cell_type": "code",
   "execution_count": null,
   "metadata": {},
   "outputs": [],
   "source": []
  },
  {
   "cell_type": "code",
   "execution_count": null,
   "metadata": {},
   "outputs": [],
   "source": []
  }
 ],
 "metadata": {
  "kernelspec": {
   "display_name": "Python 3.7.4 64-bit ('base': conda)",
   "language": "python",
   "name": "python37464bitbaseconda610c45314c1a43ffa3499bad748f0e60"
  },
  "language_info": {
   "codemirror_mode": {
    "name": "ipython",
    "version": 3
   },
   "file_extension": ".py",
   "mimetype": "text/x-python",
   "name": "python",
   "nbconvert_exporter": "python",
   "pygments_lexer": "ipython3",
   "version": "3.7.4"
  }
 },
 "nbformat": 4,
 "nbformat_minor": 2
}
